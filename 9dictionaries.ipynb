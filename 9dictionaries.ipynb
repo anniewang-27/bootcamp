{
 "cells": [
  {
   "cell_type": "code",
   "execution_count": 2,
   "metadata": {},
   "outputs": [
    {
     "name": "stdout",
     "output_type": "stream",
     "text": [
      "The most prolific commiter is cwen@iupui.edu with 5 emails\n"
     ]
    }
   ],
   "source": [
    "#9.4 sender counting and maximum\n",
    "\n",
    "name = input(\"Enter File Name:\")\n",
    "if len(name)<1:\n",
    "  name = \"mbox-short.txt\"\n",
    "handle = open(name)\n",
    "\n",
    "counts = dict()\n",
    "names = list()\n",
    "\n",
    "for line in handle:\n",
    "  if line.startswith(\"From \"):\n",
    "    words = line.split()\n",
    "    name = words[1]\n",
    "    #print(name)\n",
    "    #print(names)\n",
    "    #print(counts)\n",
    "    #print(\"\\n\")\n",
    "\n",
    "    names.append(name)\n",
    "\n",
    "    #assign the name to the word and start counting\n",
    "    if name not in counts:\n",
    "      counts[name] = 1\n",
    "    else:\n",
    "      counts[name] = counts[name]+1\n",
    "\n",
    "#print(counts)\n",
    "\n",
    "largeCount = None\n",
    "largeKey = None\n",
    "\n",
    "for key in counts:\n",
    "  if (largeCount == None) or (largeCount < counts[key]):\n",
    "    largeCount = counts[key]\n",
    "    largeName = key\n",
    "\n",
    "print(\"The most prolific commiter is\", largeName, \"with\", largeCount, \"emails\")\n",
    "\n"
   ]
  },
  {
   "cell_type": "code",
   "execution_count": 1,
   "metadata": {},
   "outputs": [
    {
     "name": "stdout",
     "output_type": "stream",
     "text": [
      "{'Sat': 1, 'Fri': 20, 'Thu': 6}\n"
     ]
    }
   ],
   "source": [
    "#9.02 day counting\n",
    "\n",
    "name = input(\"Enter File Name:\")\n",
    "if len(name)<1:\n",
    "  name = \"mbox-short.txt\"\n",
    "handle = open(name)\n",
    "\n",
    "counts = dict()\n",
    "days = list()\n",
    "\n",
    "for line in handle:\n",
    "  if line.startswith(\"From \"):\n",
    "    words = line.split()\n",
    "    day = words[2]\n",
    "\n",
    "    days.append(day)\n",
    "\n",
    "    if day not in counts:\n",
    "      counts[day] = 1\n",
    "    else:\n",
    "      counts[day] = counts[day]+1\n",
    "\n",
    "print(counts)"
   ]
  },
  {
   "cell_type": "code",
   "execution_count": 2,
   "metadata": {},
   "outputs": [
    {
     "name": "stdout",
     "output_type": "stream",
     "text": [
      "{'stephen.marquard@uct.ac.za': 2, 'louis@media.berkeley.edu': 3, 'zqian@umich.edu': 4, 'rjlowe@iupui.edu': 2, 'cwen@iupui.edu': 5, 'gsilver@umich.edu': 3, 'wagnermr@iupui.edu': 1, 'antranig@caret.cam.ac.uk': 1, 'gopal.ramasammycook@gmail.com': 1, 'david.horwitz@uct.ac.za': 4, 'ray@media.berkeley.edu': 1}\n"
     ]
    }
   ],
   "source": [
    "#9.03 sender counting\n",
    "\n",
    "name = input(\"Enter File Name:\")\n",
    "if len(name)<1:\n",
    "  name = \"mbox-short.txt\"\n",
    "handle = open(name)\n",
    "\n",
    "counts = dict()\n",
    "names = list()\n",
    "\n",
    "for line in handle:\n",
    "  if line.startswith(\"From \"):\n",
    "    words = line.split()\n",
    "    name = words[1]\n",
    "\n",
    "    names.append(name)\n",
    "\n",
    "    if name not in counts:\n",
    "      counts[name] = 1\n",
    "    else:\n",
    "      counts[name] = counts[name]+1\n",
    "\n",
    "print(counts)"
   ]
  },
  {
   "cell_type": "code",
   "execution_count": 3,
   "metadata": {},
   "outputs": [
    {
     "name": "stdout",
     "output_type": "stream",
     "text": [
      "{'uct.ac.za': 6, 'media.berkeley.edu': 4, 'umich.edu': 7, 'iupui.edu': 8, 'caret.cam.ac.uk': 1, 'gmail.com': 1}\n"
     ]
    }
   ],
   "source": [
    "#9.05 domain counting\n",
    "\n",
    "name = input(\"Enter File Name:\")\n",
    "if len(name)<1:\n",
    "  name = \"mbox-short.txt\"\n",
    "handle = open(name)\n",
    "\n",
    "counts = dict()\n",
    "domains = list()\n",
    "#From rjlowe@iupui.edu Fri Jan  4 15:46:24 2008\n",
    "\n",
    "for line in handle:\n",
    "  if line.startswith(\"From \"):\n",
    "    words = line.split()\n",
    "    address = words[1]\n",
    "    letters = address.split(\"@\")\n",
    "    domain = letters[1]\n",
    "\n",
    "    domains.append(domain)\n",
    "\n",
    "    if domain not in counts:\n",
    "      counts[domain] = 1\n",
    "    else:\n",
    "      counts[domain] = counts[domain]+1\n",
    "\n",
    "print(counts)"
   ]
  }
 ],
 "metadata": {
  "kernelspec": {
   "display_name": "Python 3.8.9 64-bit",
   "language": "python",
   "name": "python3"
  },
  "language_info": {
   "codemirror_mode": {
    "name": "ipython",
    "version": 3
   },
   "file_extension": ".py",
   "mimetype": "text/x-python",
   "name": "python",
   "nbconvert_exporter": "python",
   "pygments_lexer": "ipython3",
   "version": "3.8.9"
  },
  "orig_nbformat": 4,
  "vscode": {
   "interpreter": {
    "hash": "31f2aee4e71d21fbe5cf8b01ff0e069b9275f58929596ceb00d14d90e3e16cd6"
   }
  }
 },
 "nbformat": 4,
 "nbformat_minor": 2
}
