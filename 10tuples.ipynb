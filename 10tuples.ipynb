{
 "cells": [
  {
   "cell_type": "code",
   "execution_count": 38,
   "metadata": {},
   "outputs": [
    {
     "name": "stdout",
     "output_type": "stream",
     "text": [
      "At hour 04 , there were 3 messages sent\n",
      "At hour 06 , there were 1 messages sent\n",
      "At hour 07 , there were 1 messages sent\n",
      "At hour 09 , there were 2 messages sent\n",
      "At hour 10 , there were 3 messages sent\n",
      "At hour 11 , there were 6 messages sent\n",
      "At hour 14 , there were 1 messages sent\n",
      "At hour 15 , there were 2 messages sent\n",
      "At hour 16 , there were 4 messages sent\n",
      "At hour 17 , there were 2 messages sent\n",
      "At hour 18 , there were 1 messages sent\n",
      "At hour 19 , there were 1 messages sent\n"
     ]
    }
   ],
   "source": [
    "#10.2 printing how many messages were sent in each hour\n",
    "\n",
    "name = input(\"Enter file: \")\n",
    "if len(name)<1:\n",
    "  name = \"mbox-short.txt\"\n",
    "handle = open(name)\n",
    "\n",
    "time = {}\n",
    "tup = []\n",
    "\n",
    "for line in handle:\n",
    "  if line.startswith(\"From \"):\n",
    "    all = line.split(\":\")\n",
    "    first = all[0]\n",
    "    hour = first[-2:]\n",
    "  \n",
    "    time[hour] = time.get(hour,0)+1\n",
    "\n",
    "tup = sorted(time.items())\n",
    "\n",
    "for item in tup:\n",
    "  print(\"At hour\", item[0],\", there were\", item[1] , \"messages sent\")"
   ]
  },
  {
   "cell_type": "code",
   "execution_count": 48,
   "metadata": {},
   "outputs": [
    {
     "name": "stdout",
     "output_type": "stream",
     "text": [
      "cwen@iupui.edu 5\n"
     ]
    }
   ],
   "source": [
    "#10.1 prints who sends the most messages\n",
    "\n",
    "name = input(\"Enter File Name:\")\n",
    "if len(name)<1:\n",
    "  name = \"mbox-short.txt\"\n",
    "handle = open(name)\n",
    "\n",
    "names = {}\n",
    "tup = []\n",
    "\n",
    "for line in handle:\n",
    "  if line.startswith(\"From \"):\n",
    "    words = line.split()\n",
    "    name = words[1]\n",
    "\n",
    "    names[name] = names.get(name,0)+1\n",
    "    \n",
    "\n",
    "for k,v in names.items():\n",
    "  tup.append ( (v,k))\n",
    "tup = sorted(tup, reverse=True)\n",
    "\n",
    "for v,k in tup[0:1]:\n",
    "  print(k,v)\n"
   ]
  },
  {
   "cell_type": "code",
   "execution_count": 68,
   "metadata": {},
   "outputs": [
    {
     "name": "stdout",
     "output_type": "stream",
     "text": [
      "['j', 'a', 's', 'd', 'n', 'f', 'k', 'j', 't', 'o', 'w', 'i', 'k', 'j', 'n', 'f', 'v', 'a', 'n', 'm', 'k', 'e', 'n', 'j', 'r', 'g', 'j', 'n', 'm', 'u', 'i', 't', 'u', 'b', 'k', 't', 'g', 'i', 'o', 'n', 'f', 'd', 'j', 'v', 'u', 'f', 'w', 'o', 'e', 'j', 'n', 'g', 'n', 'j', 's', 'd', 'k', 'p', 'w', 'e', 'p', 'k', 'j', 'g', 'k', 'n', 'a', 'l', 'o', 'w', 'i', 'm', 'n', 'o', 'i', 'i', 'i', 'f', 'n']\n",
      "n\n",
      "j\n",
      "k\n",
      "i\n",
      "o\n",
      "f\n",
      "w\n",
      "g\n",
      "u\n",
      "t\n",
      "m\n",
      "e\n",
      "d\n",
      "a\n",
      "v\n",
      "s\n",
      "p\n",
      "r\n",
      "l\n",
      "b\n"
     ]
    }
   ],
   "source": [
    "#10.3 frequencies of letters\n",
    "\n",
    "alph = ['a', 'b', 'c', 'd', 'e', 'f', 'g', 'h', 'i', 'j', 'k', 'l', 'm', 'n', 'o', 'p', 'q', 'r', 's', 't', 'u', 'v', 'w', 'x', 'y', 'z']\n",
    "char = []\n",
    "char2 = []\n",
    "freq = {}\n",
    "\n",
    "name = input(\"Enter File Name:\")\n",
    "if len(name)<1:\n",
    "  name = \"sample2.txt\"\n",
    "handle = open(name)\n",
    "text = handle.read().lower()\n",
    "words = text.split()\n",
    "\n",
    "for word in words:\n",
    "  word = word.strip()\n",
    "  letters = list(word)\n",
    "  char.extend(letters)\n",
    "\n",
    "for item in char:\n",
    "  if item in alph:\n",
    "    char2.append(item)\n",
    "\n",
    "print(char2)\n",
    "\n",
    "for a in char2:\n",
    "  freq[a] = freq.get(a,0)+1\n",
    "\n",
    "final = []\n",
    "\n",
    "for k,v in freq.items():\n",
    "  final.append( (v,k) )\n",
    "final = sorted(final, reverse=True)\n",
    "\n",
    "for v,k in final:\n",
    "  print(k)"
   ]
  }
 ],
 "metadata": {
  "kernelspec": {
   "display_name": "Python 3.8.9 64-bit",
   "language": "python",
   "name": "python3"
  },
  "language_info": {
   "codemirror_mode": {
    "name": "ipython",
    "version": 3
   },
   "file_extension": ".py",
   "mimetype": "text/x-python",
   "name": "python",
   "nbconvert_exporter": "python",
   "pygments_lexer": "ipython3",
   "version": "3.8.9"
  },
  "orig_nbformat": 4,
  "vscode": {
   "interpreter": {
    "hash": "31f2aee4e71d21fbe5cf8b01ff0e069b9275f58929596ceb00d14d90e3e16cd6"
   }
  }
 },
 "nbformat": 4,
 "nbformat_minor": 2
}
